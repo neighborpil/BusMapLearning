{
 "cells": [
  {
   "cell_type": "code",
   "execution_count": 1,
   "id": "6d380d1c",
   "metadata": {},
   "outputs": [
    {
     "name": "stderr",
     "output_type": "stream",
     "text": [
      "/var/folders/g_/jx94y_rn1h91jyckh5j6tgnh0000gn/T/ipykernel_37264/2293373802.py:13: DeprecationWarning: executable_path has been deprecated, please pass in a Service object\n",
      "  driver = webdriver.Chrome('./chromedriver')\n"
     ]
    }
   ],
   "source": [
    "from selenium import webdriver\n",
    "from selenium.webdriver.support.ui import WebDriverWait\n",
    "from selenium.webdriver.support import expected_conditions as EC\n",
    "from selenium.common.exceptions import TimeoutException\n",
    "import os\n",
    "import time\n",
    "from datetime import date\n",
    "from pathlib import Path\n",
    "from datetime import datetime, timedelta\n",
    "import csv\n",
    "from selenium.webdriver.common.by import By\n",
    "\n",
    "driver = webdriver.Chrome('./chromedriver')"
   ]
  },
  {
   "cell_type": "code",
   "execution_count": 2,
   "id": "d045cfa3",
   "metadata": {},
   "outputs": [],
   "source": [
    "def write(text):\n",
    "  with open('person_count.csv', 'a', encoding='UTF8') as file:\n",
    "    file.write(text)\n",
    "    file.write('\\n')"
   ]
  },
  {
   "cell_type": "code",
   "execution_count": 3,
   "id": "26635d97",
   "metadata": {},
   "outputs": [],
   "source": [
    "file_name = 'person_count.csv'\n",
    "\n",
    "if os.path.exists(file_name):\n",
    "    os.remove(file_name)\n",
    "\n",
    "header_text = 'id'\n",
    "write(header_text)"
   ]
  },
  {
   "cell_type": "code",
   "execution_count": null,
   "id": "22fa2517",
   "metadata": {},
   "outputs": [],
   "source": [
    "url = 'https://www.visitjeju.net/kr/recommendTour?menuId=DOM_000002000000000211&andValue=&mjtorTag=&pageSize=15&page=' + str(i)\n",
    "driver.get(url)\n",
    "timeout = 5 # seconds\n",
    "try:\n",
    "    element_present = EC.presence_of_element_located((By.ID, 'paging'))\n",
    "    WebDriverWait(driver, timeout).until(element_present)\n",
    "\n",
    "except TimeoutException:\n",
    "    print('timeout')\n",
    "\n",
    "\n",
    "item_sections = driver.find_elements('xpath', '//*[@class=\"tab_cnt\"]/ul/li')"
   ]
  }
 ],
 "metadata": {
  "kernelspec": {
   "display_name": "Python 3 (ipykernel)",
   "language": "python",
   "name": "python3"
  },
  "language_info": {
   "codemirror_mode": {
    "name": "ipython",
    "version": 3
   },
   "file_extension": ".py",
   "mimetype": "text/x-python",
   "name": "python",
   "nbconvert_exporter": "python",
   "pygments_lexer": "ipython3",
   "version": "3.10.6"
  }
 },
 "nbformat": 4,
 "nbformat_minor": 5
}
