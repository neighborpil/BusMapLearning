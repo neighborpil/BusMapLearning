{
 "cells": [
  {
   "cell_type": "code",
   "execution_count": 1,
   "id": "b8a7a731",
   "metadata": {},
   "outputs": [
    {
     "name": "stderr",
     "output_type": "stream",
     "text": [
      "/var/folders/g_/jx94y_rn1h91jyckh5j6tgnh0000gn/T/ipykernel_25684/4222959276.py:11: DeprecationWarning: executable_path has been deprecated, please pass in a Service object\n",
      "  driver = webdriver.Chrome('./chromedriver')\n"
     ]
    }
   ],
   "source": [
    "from selenium import webdriver\n",
    "from selenium.webdriver.support.ui import WebDriverWait\n",
    "from selenium.webdriver.support import expected_conditions as EC\n",
    "from selenium.common.exceptions import TimeoutException\n",
    "import os\n",
    "import time\n",
    "from datetime import date\n",
    "from pathlib import Path\n",
    "from datetime import datetime, timedelta\n",
    "\n",
    "driver = webdriver.Chrome('./chromedriver')"
   ]
  },
  {
   "cell_type": "code",
   "execution_count": 2,
   "id": "52f85500",
   "metadata": {},
   "outputs": [],
   "source": [
    "url = 'http://bus.busan.go.kr/busanBIMS/bus_map/map_main.asp?menuNum=2&mapGubun=daum'\n",
    "driver.get(url)"
   ]
  },
  {
   "cell_type": "code",
   "execution_count": 3,
   "id": "a8bd5f2f",
   "metadata": {},
   "outputs": [],
   "source": [
    "search_input = driver.find_element('xpath', '//*[@id=\"bline_sch\"]/dl/dd/input')\n",
    "search_input.click()\n",
    "search_input.send_keys('1')"
   ]
  },
  {
   "cell_type": "code",
   "execution_count": 4,
   "id": "7e72da50",
   "metadata": {},
   "outputs": [],
   "source": [
    "search_button = driver.find_element('xpath', '//*[@id=\"bline_sch\"]/dl/dd/button')\n",
    "search_button.click()"
   ]
  },
  {
   "cell_type": "code",
   "execution_count": 5,
   "id": "22b2c976",
   "metadata": {},
   "outputs": [],
   "source": [
    "result_iframe = driver.find_element('xpath', '//*[@id=\"ifResult\"]')\n",
    "driver.switch_to.frame(result_iframe)"
   ]
  },
  {
   "cell_type": "code",
   "execution_count": 58,
   "id": "cf716974",
   "metadata": {},
   "outputs": [
    {
     "name": "stdout",
     "output_type": "stream",
     "text": [
      "156\n",
      "http://bus.busan.go.kr/busanBIMS/bus_map/frm_busRoute.asp#2\n",
      "http://bus.busan.go.kr/busanBIMS/bus_map/frm_busRoute.asp#3\n",
      "http://bus.busan.go.kr/busanBIMS/bus_map/frm_busRoute.asp#4\n",
      "http://bus.busan.go.kr/busanBIMS/bus_map/frm_busRoute.asp#5\n",
      "http://bus.busan.go.kr/busanBIMS/bus_map/frm_busRoute.asp#6\n",
      "http://bus.busan.go.kr/busanBIMS/bus_map/frm_busRoute.asp#7\n",
      "http://bus.busan.go.kr/busanBIMS/bus_map/frm_busRoute.asp#8\n",
      "http://bus.busan.go.kr/busanBIMS/bus_map/frm_busRoute.asp#9\n",
      "http://bus.busan.go.kr/busanBIMS/bus_map/frm_busRoute.asp#10\n",
      "http://bus.busan.go.kr/busanBIMS/bus_map/frm_busRoute.asp#11\n",
      "http://bus.busan.go.kr/busanBIMS/bus_map/frm_busRoute.asp#12\n",
      "http://bus.busan.go.kr/busanBIMS/bus_map/frm_busRoute.asp#13\n",
      "http://bus.busan.go.kr/busanBIMS/bus_map/frm_busRoute.asp#14\n",
      "http://bus.busan.go.kr/busanBIMS/bus_map/frm_busRoute.asp#15\n",
      "http://bus.busan.go.kr/busanBIMS/bus_map/frm_busRoute.asp#16\n",
      "http://bus.busan.go.kr/busanBIMS/bus_map/frm_busRoute.asp#17\n",
      "http://bus.busan.go.kr/busanBIMS/bus_map/frm_busRoute.asp#18\n",
      "http://bus.busan.go.kr/busanBIMS/bus_map/frm_busRoute.asp#19\n",
      "http://bus.busan.go.kr/busanBIMS/bus_map/frm_busRoute.asp#20\n",
      "http://bus.busan.go.kr/busanBIMS/bus_map/frm_busRoute.asp#21\n",
      "http://bus.busan.go.kr/busanBIMS/bus_map/frm_busRoute.asp#22\n",
      "http://bus.busan.go.kr/busanBIMS/bus_map/frm_busRoute.asp#23\n",
      "http://bus.busan.go.kr/busanBIMS/bus_map/frm_busRoute.asp#24\n",
      "http://bus.busan.go.kr/busanBIMS/bus_map/frm_busRoute.asp#25\n",
      "http://bus.busan.go.kr/busanBIMS/bus_map/frm_busRoute.asp#26\n",
      "http://bus.busan.go.kr/busanBIMS/bus_map/frm_busRoute.asp#27\n",
      "http://bus.busan.go.kr/busanBIMS/bus_map/frm_busRoute.asp#28\n",
      "http://bus.busan.go.kr/busanBIMS/bus_map/frm_busRoute.asp#29\n",
      "http://bus.busan.go.kr/busanBIMS/bus_map/frm_busRoute.asp#30\n",
      "http://bus.busan.go.kr/busanBIMS/bus_map/frm_busRoute.asp#31\n",
      "http://bus.busan.go.kr/busanBIMS/bus_map/frm_busRoute.asp#32\n",
      "http://bus.busan.go.kr/busanBIMS/bus_map/frm_busRoute.asp#33\n",
      "http://bus.busan.go.kr/busanBIMS/bus_map/frm_busRoute.asp#34\n",
      "http://bus.busan.go.kr/busanBIMS/bus_map/frm_busRoute.asp#35\n",
      "http://bus.busan.go.kr/busanBIMS/bus_map/frm_busRoute.asp#36\n",
      "http://bus.busan.go.kr/busanBIMS/bus_map/frm_busRoute.asp#37\n",
      "http://bus.busan.go.kr/busanBIMS/bus_map/frm_busRoute.asp#38\n",
      "http://bus.busan.go.kr/busanBIMS/bus_map/frm_busRoute.asp#39\n",
      "http://bus.busan.go.kr/busanBIMS/bus_map/frm_busRoute.asp#40\n",
      "http://bus.busan.go.kr/busanBIMS/bus_map/frm_busRoute.asp#41\n",
      "http://bus.busan.go.kr/busanBIMS/bus_map/frm_busRoute.asp#42\n",
      "http://bus.busan.go.kr/busanBIMS/bus_map/frm_busRoute.asp#43\n",
      "http://bus.busan.go.kr/busanBIMS/bus_map/frm_busRoute.asp#44\n",
      "http://bus.busan.go.kr/busanBIMS/bus_map/frm_busRoute.asp#45\n",
      "http://bus.busan.go.kr/busanBIMS/bus_map/frm_busRoute.asp#46\n",
      "http://bus.busan.go.kr/busanBIMS/bus_map/frm_busRoute.asp#47\n",
      "http://bus.busan.go.kr/busanBIMS/bus_map/frm_busRoute.asp#48\n",
      "http://bus.busan.go.kr/busanBIMS/bus_map/frm_busRoute.asp#49\n",
      "http://bus.busan.go.kr/busanBIMS/bus_map/frm_busRoute.asp#50\n",
      "http://bus.busan.go.kr/busanBIMS/bus_map/frm_busRoute.asp#51\n",
      "http://bus.busan.go.kr/busanBIMS/bus_map/frm_busRoute.asp#52\n",
      "http://bus.busan.go.kr/busanBIMS/bus_map/frm_busRoute.asp#53\n",
      "http://bus.busan.go.kr/busanBIMS/bus_map/frm_busRoute.asp#54\n",
      "http://bus.busan.go.kr/busanBIMS/bus_map/frm_busRoute.asp#55\n",
      "http://bus.busan.go.kr/busanBIMS/bus_map/frm_busRoute.asp#56\n",
      "http://bus.busan.go.kr/busanBIMS/bus_map/frm_busRoute.asp#57\n",
      "http://bus.busan.go.kr/busanBIMS/bus_map/frm_busRoute.asp#58\n",
      "http://bus.busan.go.kr/busanBIMS/bus_map/frm_busRoute.asp#59\n",
      "http://bus.busan.go.kr/busanBIMS/bus_map/frm_busRoute.asp#60\n",
      "http://bus.busan.go.kr/busanBIMS/bus_map/frm_busRoute.asp#61\n",
      "http://bus.busan.go.kr/busanBIMS/bus_map/frm_busRoute.asp#62\n",
      "http://bus.busan.go.kr/busanBIMS/bus_map/frm_busRoute.asp#63\n",
      "http://bus.busan.go.kr/busanBIMS/bus_map/frm_busRoute.asp#64\n",
      "http://bus.busan.go.kr/busanBIMS/bus_map/frm_busRoute.asp#65\n",
      "http://bus.busan.go.kr/busanBIMS/bus_map/frm_busRoute.asp#66\n",
      "http://bus.busan.go.kr/busanBIMS/bus_map/frm_busRoute.asp#67\n",
      "http://bus.busan.go.kr/busanBIMS/bus_map/frm_busRoute.asp#68\n",
      "http://bus.busan.go.kr/busanBIMS/bus_map/frm_busRoute.asp#69\n",
      "http://bus.busan.go.kr/busanBIMS/bus_map/frm_busRoute.asp#70\n",
      "http://bus.busan.go.kr/busanBIMS/bus_map/frm_busRoute.asp#71\n",
      "http://bus.busan.go.kr/busanBIMS/bus_map/frm_busRoute.asp#72\n",
      "http://bus.busan.go.kr/busanBIMS/bus_map/frm_busRoute.asp#73\n",
      "http://bus.busan.go.kr/busanBIMS/bus_map/frm_busRoute.asp#74\n",
      "http://bus.busan.go.kr/busanBIMS/bus_map/frm_busRoute.asp#75\n",
      "http://bus.busan.go.kr/busanBIMS/bus_map/frm_busRoute.asp#76\n",
      "http://bus.busan.go.kr/busanBIMS/bus_map/frm_busRoute.asp#77\n",
      "http://bus.busan.go.kr/busanBIMS/bus_map/frm_busRoute.asp#78\n",
      "http://bus.busan.go.kr/busanBIMS/bus_map/frm_busRoute.asp#79\n",
      "http://bus.busan.go.kr/busanBIMS/bus_map/frm_busRoute.asp#80\n",
      "http://bus.busan.go.kr/busanBIMS/bus_map/frm_busRoute.asp#81\n",
      "http://bus.busan.go.kr/busanBIMS/bus_map/frm_busRoute.asp#82\n",
      "http://bus.busan.go.kr/busanBIMS/bus_map/frm_busRoute.asp#83\n",
      "http://bus.busan.go.kr/busanBIMS/bus_map/frm_busRoute.asp#84\n",
      "http://bus.busan.go.kr/busanBIMS/bus_map/frm_busRoute.asp#85\n",
      "http://bus.busan.go.kr/busanBIMS/bus_map/frm_busRoute.asp#86\n",
      "http://bus.busan.go.kr/busanBIMS/bus_map/frm_busRoute.asp#87\n",
      "http://bus.busan.go.kr/busanBIMS/bus_map/frm_busRoute.asp#88\n",
      "http://bus.busan.go.kr/busanBIMS/bus_map/frm_busRoute.asp#89\n",
      "http://bus.busan.go.kr/busanBIMS/bus_map/frm_busRoute.asp#90\n",
      "http://bus.busan.go.kr/busanBIMS/bus_map/frm_busRoute.asp#91\n",
      "http://bus.busan.go.kr/busanBIMS/bus_map/frm_busRoute.asp#92\n",
      "http://bus.busan.go.kr/busanBIMS/bus_map/frm_busRoute.asp#93\n",
      "http://bus.busan.go.kr/busanBIMS/bus_map/frm_busRoute.asp#94\n",
      "http://bus.busan.go.kr/busanBIMS/bus_map/frm_busRoute.asp#95\n",
      "http://bus.busan.go.kr/busanBIMS/bus_map/frm_busRoute.asp#96\n",
      "http://bus.busan.go.kr/busanBIMS/bus_map/frm_busRoute.asp#97\n",
      "http://bus.busan.go.kr/busanBIMS/bus_map/frm_busRoute.asp#98\n",
      "http://bus.busan.go.kr/busanBIMS/bus_map/frm_busRoute.asp#99\n",
      "http://bus.busan.go.kr/busanBIMS/bus_map/frm_busRoute.asp#100\n",
      "http://bus.busan.go.kr/busanBIMS/bus_map/frm_busRoute.asp#101\n",
      "http://bus.busan.go.kr/busanBIMS/bus_map/frm_busRoute.asp#102\n",
      "http://bus.busan.go.kr/busanBIMS/bus_map/frm_busRoute.asp#103\n",
      "http://bus.busan.go.kr/busanBIMS/bus_map/frm_busRoute.asp#104\n",
      "http://bus.busan.go.kr/busanBIMS/bus_map/frm_busRoute.asp#105\n",
      "http://bus.busan.go.kr/busanBIMS/bus_map/frm_busRoute.asp#106\n",
      "http://bus.busan.go.kr/busanBIMS/bus_map/frm_busRoute.asp#107\n",
      "http://bus.busan.go.kr/busanBIMS/bus_map/frm_busRoute.asp#108\n",
      "http://bus.busan.go.kr/busanBIMS/bus_map/frm_busRoute.asp#109\n",
      "http://bus.busan.go.kr/busanBIMS/bus_map/frm_busRoute.asp#110\n",
      "http://bus.busan.go.kr/busanBIMS/bus_map/frm_busRoute.asp#111\n",
      "http://bus.busan.go.kr/busanBIMS/bus_map/frm_busRoute.asp#112\n",
      "http://bus.busan.go.kr/busanBIMS/bus_map/frm_busRoute.asp#113\n",
      "http://bus.busan.go.kr/busanBIMS/bus_map/frm_busRoute.asp#114\n",
      "http://bus.busan.go.kr/busanBIMS/bus_map/frm_busRoute.asp#115\n",
      "http://bus.busan.go.kr/busanBIMS/bus_map/frm_busRoute.asp#116\n",
      "http://bus.busan.go.kr/busanBIMS/bus_map/frm_busRoute.asp#117\n",
      "http://bus.busan.go.kr/busanBIMS/bus_map/frm_busRoute.asp#118\n",
      "http://bus.busan.go.kr/busanBIMS/bus_map/frm_busRoute.asp#119\n",
      "http://bus.busan.go.kr/busanBIMS/bus_map/frm_busRoute.asp#120\n",
      "http://bus.busan.go.kr/busanBIMS/bus_map/frm_busRoute.asp#121\n",
      "http://bus.busan.go.kr/busanBIMS/bus_map/frm_busRoute.asp#122\n",
      "http://bus.busan.go.kr/busanBIMS/bus_map/frm_busRoute.asp#123\n",
      "http://bus.busan.go.kr/busanBIMS/bus_map/frm_busRoute.asp#124\n",
      "http://bus.busan.go.kr/busanBIMS/bus_map/frm_busRoute.asp#125\n",
      "http://bus.busan.go.kr/busanBIMS/bus_map/frm_busRoute.asp#126\n",
      "http://bus.busan.go.kr/busanBIMS/bus_map/frm_busRoute.asp#127\n",
      "http://bus.busan.go.kr/busanBIMS/bus_map/frm_busRoute.asp#128\n",
      "http://bus.busan.go.kr/busanBIMS/bus_map/frm_busRoute.asp#129\n",
      "http://bus.busan.go.kr/busanBIMS/bus_map/frm_busRoute.asp#130\n",
      "http://bus.busan.go.kr/busanBIMS/bus_map/frm_busRoute.asp#131\n",
      "http://bus.busan.go.kr/busanBIMS/bus_map/frm_busRoute.asp#132\n",
      "http://bus.busan.go.kr/busanBIMS/bus_map/frm_busRoute.asp#133\n",
      "http://bus.busan.go.kr/busanBIMS/bus_map/frm_busRoute.asp#134\n",
      "http://bus.busan.go.kr/busanBIMS/bus_map/frm_busRoute.asp#135\n"
     ]
    },
    {
     "name": "stdout",
     "output_type": "stream",
     "text": [
      "http://bus.busan.go.kr/busanBIMS/bus_map/frm_busRoute.asp#136\n",
      "http://bus.busan.go.kr/busanBIMS/bus_map/frm_busRoute.asp#137\n",
      "http://bus.busan.go.kr/busanBIMS/bus_map/frm_busRoute.asp#138\n",
      "http://bus.busan.go.kr/busanBIMS/bus_map/frm_busRoute.asp#139\n",
      "http://bus.busan.go.kr/busanBIMS/bus_map/frm_busRoute.asp#140\n",
      "http://bus.busan.go.kr/busanBIMS/bus_map/frm_busRoute.asp#141\n",
      "http://bus.busan.go.kr/busanBIMS/bus_map/frm_busRoute.asp#142\n",
      "http://bus.busan.go.kr/busanBIMS/bus_map/frm_busRoute.asp#143\n",
      "http://bus.busan.go.kr/busanBIMS/bus_map/frm_busRoute.asp#144\n",
      "http://bus.busan.go.kr/busanBIMS/bus_map/frm_busRoute.asp#145\n",
      "http://bus.busan.go.kr/busanBIMS/bus_map/frm_busRoute.asp#146\n",
      "http://bus.busan.go.kr/busanBIMS/bus_map/frm_busRoute.asp#147\n",
      "http://bus.busan.go.kr/busanBIMS/bus_map/frm_busRoute.asp#148\n",
      "http://bus.busan.go.kr/busanBIMS/bus_map/frm_busRoute.asp#149\n",
      "http://bus.busan.go.kr/busanBIMS/bus_map/frm_busRoute.asp#150\n",
      "http://bus.busan.go.kr/busanBIMS/bus_map/frm_busRoute.asp#151\n",
      "http://bus.busan.go.kr/busanBIMS/bus_map/frm_busRoute.asp#152\n",
      "http://bus.busan.go.kr/busanBIMS/bus_map/frm_busRoute.asp#153\n",
      "http://bus.busan.go.kr/busanBIMS/bus_map/frm_busRoute.asp#154\n",
      "http://bus.busan.go.kr/busanBIMS/bus_map/frm_busRoute.asp#155\n",
      "http://bus.busan.go.kr/busanBIMS/bus_map/frm_busRoute.asp#156\n",
      "http://bus.busan.go.kr/busanBIMS/bus_map/frm_busRoute.asp#157\n"
     ]
    }
   ],
   "source": [
    "result_sections = driver.find_elements('xpath', '//*[@class=\"btmore\"]')\n",
    "print(len(result_sections))\n",
    "for result_section in result_sections:\n",
    "    # p = result_section.find_element('xpath', 'a/img')\n",
    "    expand_button = result_section.find_element('xpath', 'a[2]')\n",
    "    print(expand_button.get_attribute(\"href\"))\n",
    "    expand_button.click()\n",
    "    time.sleep(1)"
   ]
  },
  {
   "cell_type": "code",
   "execution_count": 80,
   "id": "8e53749c",
   "metadata": {},
   "outputs": [
    {
     "name": "stdout",
     "output_type": "stream",
     "text": [
      "156\n"
     ]
    },
    {
     "ename": "NoSuchElementException",
     "evalue": "Message: no such element: Unable to locate element: {\"method\":\"xpath\",\"selector\":\"(//div)[1]/p\"}\n  (Session info: chrome=105.0.5195.125)\nStacktrace:\n0   chromedriver                        0x0000000102bb9a90 chromedriver + 3889808\n1   chromedriver                        0x0000000102b48b54 chromedriver + 3427156\n2   chromedriver                        0x000000010283a238 chromedriver + 221752\n3   chromedriver                        0x000000010286b4c8 chromedriver + 423112\n4   chromedriver                        0x0000000102861a10 chromedriver + 383504\n5   chromedriver                        0x0000000102894944 chromedriver + 592196\n6   chromedriver                        0x000000010286054c chromedriver + 378188\n7   chromedriver                        0x0000000102b8d2f8 chromedriver + 3707640\n8   chromedriver                        0x0000000102b90ea8 chromedriver + 3722920\n9   chromedriver                        0x0000000102b973d8 chromedriver + 3748824\n10  chromedriver                        0x0000000102b919a8 chromedriver + 3725736\n11  chromedriver                        0x0000000102b6cde8 chromedriver + 3575272\n12  chromedriver                        0x0000000102babd1c chromedriver + 3833116\n13  chromedriver                        0x0000000102babe84 chromedriver + 3833476\n14  chromedriver                        0x0000000102bc0210 chromedriver + 3916304\n15  libsystem_pthread.dylib             0x0000000184d154ec _pthread_start + 148\n16  libsystem_pthread.dylib             0x0000000184d102d0 thread_start + 8\n",
     "output_type": "error",
     "traceback": [
      "\u001b[0;31m---------------------------------------------------------------------------\u001b[0m",
      "\u001b[0;31mNoSuchElementException\u001b[0m                    Traceback (most recent call last)",
      "Cell \u001b[0;32mIn [80], line 5\u001b[0m\n\u001b[1;32m      2\u001b[0m \u001b[38;5;28mprint\u001b[39m(\u001b[38;5;28mlen\u001b[39m(result_sections))\n\u001b[1;32m      3\u001b[0m \u001b[38;5;28;01mfor\u001b[39;00m bline_result \u001b[38;5;129;01min\u001b[39;00m bline_results:\n\u001b[1;32m      4\u001b[0m     \u001b[38;5;66;03m# p = result_section.find_element('xpath', 'a/img')\u001b[39;00m\n\u001b[0;32m----> 5\u001b[0m     expand_button \u001b[38;5;241m=\u001b[39m \u001b[43mbline_result\u001b[49m\u001b[38;5;241;43m.\u001b[39;49m\u001b[43mfind_element\u001b[49m\u001b[43m(\u001b[49m\u001b[38;5;124;43m'\u001b[39;49m\u001b[38;5;124;43mxpath\u001b[39;49m\u001b[38;5;124;43m'\u001b[39;49m\u001b[43m,\u001b[49m\u001b[43m \u001b[49m\u001b[38;5;124;43m'\u001b[39;49m\u001b[38;5;124;43m(//div)[1]/p\u001b[39;49m\u001b[38;5;124;43m'\u001b[39;49m\u001b[43m)\u001b[49m\n\u001b[1;32m      6\u001b[0m     \u001b[38;5;66;03m# expand_button = bline_result.find_element('xpath', '(//div)[0]/p[@class=\".btmore\" ]/a[1]')\u001b[39;00m\n\u001b[1;32m      7\u001b[0m     \u001b[38;5;28mprint\u001b[39m(expand_button\u001b[38;5;241m.\u001b[39mtext)\n",
      "File \u001b[0;32m/opt/homebrew/Caskroom/miniforge/base/envs/crawling/lib/python3.10/site-packages/selenium/webdriver/remote/webelement.py:419\u001b[0m, in \u001b[0;36mWebElement.find_element\u001b[0;34m(self, by, value)\u001b[0m\n\u001b[1;32m    416\u001b[0m     by \u001b[38;5;241m=\u001b[39m By\u001b[38;5;241m.\u001b[39mCSS_SELECTOR\n\u001b[1;32m    417\u001b[0m     value \u001b[38;5;241m=\u001b[39m \u001b[38;5;124m'\u001b[39m\u001b[38;5;124m[name=\u001b[39m\u001b[38;5;124m\"\u001b[39m\u001b[38;5;132;01m%s\u001b[39;00m\u001b[38;5;124m\"\u001b[39m\u001b[38;5;124m]\u001b[39m\u001b[38;5;124m'\u001b[39m \u001b[38;5;241m%\u001b[39m value\n\u001b[0;32m--> 419\u001b[0m \u001b[38;5;28;01mreturn\u001b[39;00m \u001b[38;5;28;43mself\u001b[39;49m\u001b[38;5;241;43m.\u001b[39;49m\u001b[43m_execute\u001b[49m\u001b[43m(\u001b[49m\u001b[43mCommand\u001b[49m\u001b[38;5;241;43m.\u001b[39;49m\u001b[43mFIND_CHILD_ELEMENT\u001b[49m\u001b[43m,\u001b[49m\n\u001b[1;32m    420\u001b[0m \u001b[43m                     \u001b[49m\u001b[43m{\u001b[49m\u001b[38;5;124;43m\"\u001b[39;49m\u001b[38;5;124;43musing\u001b[39;49m\u001b[38;5;124;43m\"\u001b[39;49m\u001b[43m:\u001b[49m\u001b[43m \u001b[49m\u001b[43mby\u001b[49m\u001b[43m,\u001b[49m\u001b[43m \u001b[49m\u001b[38;5;124;43m\"\u001b[39;49m\u001b[38;5;124;43mvalue\u001b[39;49m\u001b[38;5;124;43m\"\u001b[39;49m\u001b[43m:\u001b[49m\u001b[43m \u001b[49m\u001b[43mvalue\u001b[49m\u001b[43m}\u001b[49m\u001b[43m)\u001b[49m[\u001b[38;5;124m'\u001b[39m\u001b[38;5;124mvalue\u001b[39m\u001b[38;5;124m'\u001b[39m]\n",
      "File \u001b[0;32m/opt/homebrew/Caskroom/miniforge/base/envs/crawling/lib/python3.10/site-packages/selenium/webdriver/remote/webelement.py:396\u001b[0m, in \u001b[0;36mWebElement._execute\u001b[0;34m(self, command, params)\u001b[0m\n\u001b[1;32m    394\u001b[0m     params \u001b[38;5;241m=\u001b[39m {}\n\u001b[1;32m    395\u001b[0m params[\u001b[38;5;124m'\u001b[39m\u001b[38;5;124mid\u001b[39m\u001b[38;5;124m'\u001b[39m] \u001b[38;5;241m=\u001b[39m \u001b[38;5;28mself\u001b[39m\u001b[38;5;241m.\u001b[39m_id\n\u001b[0;32m--> 396\u001b[0m \u001b[38;5;28;01mreturn\u001b[39;00m \u001b[38;5;28;43mself\u001b[39;49m\u001b[38;5;241;43m.\u001b[39;49m\u001b[43m_parent\u001b[49m\u001b[38;5;241;43m.\u001b[39;49m\u001b[43mexecute\u001b[49m\u001b[43m(\u001b[49m\u001b[43mcommand\u001b[49m\u001b[43m,\u001b[49m\u001b[43m \u001b[49m\u001b[43mparams\u001b[49m\u001b[43m)\u001b[49m\n",
      "File \u001b[0;32m/opt/homebrew/Caskroom/miniforge/base/envs/crawling/lib/python3.10/site-packages/selenium/webdriver/remote/webdriver.py:434\u001b[0m, in \u001b[0;36mWebDriver.execute\u001b[0;34m(self, driver_command, params)\u001b[0m\n\u001b[1;32m    432\u001b[0m response \u001b[38;5;241m=\u001b[39m \u001b[38;5;28mself\u001b[39m\u001b[38;5;241m.\u001b[39mcommand_executor\u001b[38;5;241m.\u001b[39mexecute(driver_command, params)\n\u001b[1;32m    433\u001b[0m \u001b[38;5;28;01mif\u001b[39;00m response:\n\u001b[0;32m--> 434\u001b[0m     \u001b[38;5;28;43mself\u001b[39;49m\u001b[38;5;241;43m.\u001b[39;49m\u001b[43merror_handler\u001b[49m\u001b[38;5;241;43m.\u001b[39;49m\u001b[43mcheck_response\u001b[49m\u001b[43m(\u001b[49m\u001b[43mresponse\u001b[49m\u001b[43m)\u001b[49m\n\u001b[1;32m    435\u001b[0m     response[\u001b[38;5;124m'\u001b[39m\u001b[38;5;124mvalue\u001b[39m\u001b[38;5;124m'\u001b[39m] \u001b[38;5;241m=\u001b[39m \u001b[38;5;28mself\u001b[39m\u001b[38;5;241m.\u001b[39m_unwrap_value(\n\u001b[1;32m    436\u001b[0m         response\u001b[38;5;241m.\u001b[39mget(\u001b[38;5;124m'\u001b[39m\u001b[38;5;124mvalue\u001b[39m\u001b[38;5;124m'\u001b[39m, \u001b[38;5;28;01mNone\u001b[39;00m))\n\u001b[1;32m    437\u001b[0m     \u001b[38;5;28;01mreturn\u001b[39;00m response\n",
      "File \u001b[0;32m/opt/homebrew/Caskroom/miniforge/base/envs/crawling/lib/python3.10/site-packages/selenium/webdriver/remote/errorhandler.py:243\u001b[0m, in \u001b[0;36mErrorHandler.check_response\u001b[0;34m(self, response)\u001b[0m\n\u001b[1;32m    241\u001b[0m         alert_text \u001b[38;5;241m=\u001b[39m value[\u001b[38;5;124m'\u001b[39m\u001b[38;5;124malert\u001b[39m\u001b[38;5;124m'\u001b[39m]\u001b[38;5;241m.\u001b[39mget(\u001b[38;5;124m'\u001b[39m\u001b[38;5;124mtext\u001b[39m\u001b[38;5;124m'\u001b[39m)\n\u001b[1;32m    242\u001b[0m     \u001b[38;5;28;01mraise\u001b[39;00m exception_class(message, screen, stacktrace, alert_text)  \u001b[38;5;66;03m# type: ignore[call-arg]  # mypy is not smart enough here\u001b[39;00m\n\u001b[0;32m--> 243\u001b[0m \u001b[38;5;28;01mraise\u001b[39;00m exception_class(message, screen, stacktrace)\n",
      "\u001b[0;31mNoSuchElementException\u001b[0m: Message: no such element: Unable to locate element: {\"method\":\"xpath\",\"selector\":\"(//div)[1]/p\"}\n  (Session info: chrome=105.0.5195.125)\nStacktrace:\n0   chromedriver                        0x0000000102bb9a90 chromedriver + 3889808\n1   chromedriver                        0x0000000102b48b54 chromedriver + 3427156\n2   chromedriver                        0x000000010283a238 chromedriver + 221752\n3   chromedriver                        0x000000010286b4c8 chromedriver + 423112\n4   chromedriver                        0x0000000102861a10 chromedriver + 383504\n5   chromedriver                        0x0000000102894944 chromedriver + 592196\n6   chromedriver                        0x000000010286054c chromedriver + 378188\n7   chromedriver                        0x0000000102b8d2f8 chromedriver + 3707640\n8   chromedriver                        0x0000000102b90ea8 chromedriver + 3722920\n9   chromedriver                        0x0000000102b973d8 chromedriver + 3748824\n10  chromedriver                        0x0000000102b919a8 chromedriver + 3725736\n11  chromedriver                        0x0000000102b6cde8 chromedriver + 3575272\n12  chromedriver                        0x0000000102babd1c chromedriver + 3833116\n13  chromedriver                        0x0000000102babe84 chromedriver + 3833476\n14  chromedriver                        0x0000000102bc0210 chromedriver + 3916304\n15  libsystem_pthread.dylib             0x0000000184d154ec _pthread_start + 148\n16  libsystem_pthread.dylib             0x0000000184d102d0 thread_start + 8\n"
     ]
    }
   ],
   "source": [
    "bline_results = driver.find_elements('xpath', '//*[@class=\"bline_result\"]')\n",
    "print(len(result_sections))\n",
    "for bline_result in bline_results:\n",
    "    # p = result_section.find_element('xpath', 'a/img')\n",
    "    expand_button = bline_result.find_element('xpath', '(//div)[1]/p')\n",
    "    # expand_button = bline_result.find_element('xpath', '(//div)[0]/p[@class=\".btmore\" ]/a[1]')\n",
    "    print(expand_button.text)\n",
    "    #expand_button.click()\n",
    "    #time.sleep(1)"
   ]
  },
  {
   "cell_type": "code",
   "execution_count": null,
   "id": "1a640fc5",
   "metadata": {},
   "outputs": [],
   "source": []
  }
 ],
 "metadata": {
  "kernelspec": {
   "display_name": "Python 3 (ipykernel)",
   "language": "python",
   "name": "python3"
  },
  "language_info": {
   "codemirror_mode": {
    "name": "ipython",
    "version": 3
   },
   "file_extension": ".py",
   "mimetype": "text/x-python",
   "name": "python",
   "nbconvert_exporter": "python",
   "pygments_lexer": "ipython3",
   "version": "3.10.6"
  }
 },
 "nbformat": 4,
 "nbformat_minor": 5
}
